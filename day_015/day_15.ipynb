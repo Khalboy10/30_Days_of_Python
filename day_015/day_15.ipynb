{
 "cells": [
  {
   "cell_type": "markdown",
   "metadata": {},
   "source": [
    "# Exercises: Day 15\n"
   ]
  },
  {
   "attachments": {},
   "cell_type": "markdown",
   "metadata": {},
   "source": [
    "(base) khalboy10@khalboy10:~$ python3\n",
    "Python 3.9.13 (main, Aug 25 2022, 23:26:10) \n",
    "[GCC 11.2.0] :: Anaconda, Inc. on linux\n",
    "Type \"help\", \"copyright\", \"credits\" or \"license\" for more information.\n",
    ">>> print 'hello world'\n",
    "  File \"<stdin>\", line 1\n",
    "    print 'hello world'\n",
    "          ^\n",
    "SyntaxError: Missing parentheses in call to 'print'. Did you mean print('hello world')?\n",
    ">>> print('hello world')\n",
    "hello world\n",
    ">>> print(age)\n",
    "Traceback (most recent call last):\n",
    "  File \"<stdin>\", line 1, in <module>\n",
    "NameError: name 'age' is not defined\n",
    ">>> age = 100\n",
    ">>> print(age)\n",
    "100\n",
    ">>> num = [1,2,3,4,5]\n",
    ">>> num[5]\n",
    "Traceback (most recent call last):\n",
    "  File \"<stdin>\", line 1, in <module>\n",
    "IndexError: list index out of range\n",
    ">>> num[4]\n",
    "5\n",
    ">>> import maths\n",
    "Traceback (most recent call last):\n",
    "  File \"<stdin>\", line 1, in <module>\n",
    "ModuleNotFoundError: No module named 'maths'\n",
    ">>> import math\n",
    ">>> math.PI\n",
    "Traceback (most recent call last):\n",
    "  File \"<stdin>\", line 1, in <module>\n",
    "AttributeError: module 'math' has no attribute 'PI'\n",
    ">>> math.pi\n",
    "3.141592653589793\n",
    ">>> \n",
    "KeyboardInterrupt\n",
    ">>> users = {'name':'Auwal', 'age':'100', 'country':'Nigeria'}\n",
    ">>> users['count']\n",
    "Traceback (most recent call last):\n",
    "  File \"<stdin>\", line 1, in <module>\n",
    "KeyError: 'count'\n",
    ">>> users['country']\n",
    "'Nigeria'\n",
    ">>> 4 + '5'\n",
    "Traceback (most recent call last):\n",
    "  File \"<stdin>\", line 1, in <module>\n",
    "TypeError: unsupported operand type(s) for +: 'int' and 'str'\n",
    ">>> 4 + int('5')\n",
    "9\n",
    ">>> 4 + float('5')\n",
    "9.0\n",
    ">>> from math import power\n",
    "Traceback (most recent call last):\n",
    "  File \"<stdin>\", line 1, in <module>\n",
    "ImportError: cannot import name 'power' from 'math' (/home/khalboy10/anaconda3/lib/python3.9/lib-dynload/math.cpython-39-x86_64-linux-gnu.so)\n",
    ">>> from math import pow\n",
    ">>> pow(2,3)\n",
    "8.0\n",
    ">>> int('12a')\n",
    "Traceback (most recent call last):\n",
    "  File \"<stdin>\", line 1, in <module>\n",
    "ValueError: invalid literal for int() with base 10: '12a'\n",
    ">>> 2/0\n",
    "Traceback (most recent call last):\n",
    "  File \"<stdin>\", line 1, in <module>\n",
    "ZeroDivisionError: division by zero\n"
   ]
  }
 ],
 "metadata": {
  "kernelspec": {
   "display_name": "Python 3",
   "language": "python",
   "name": "python3"
  },
  "language_info": {
   "name": "python",
   "version": "3.11.0rc1 (main, Aug 12 2022, 10:02:14) [GCC 11.2.0]"
  },
  "orig_nbformat": 4,
  "vscode": {
   "interpreter": {
    "hash": "ead1b95f633dc9c51826328e1846203f51a198c6fb5f2884a80417ba131d4e82"
   }
  }
 },
 "nbformat": 4,
 "nbformat_minor": 2
}
