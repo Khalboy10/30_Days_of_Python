{
 "cells": [
  {
   "cell_type": "markdown",
   "metadata": {},
   "source": [
    "Exercise 1"
   ]
  },
  {
   "cell_type": "code",
   "execution_count": 31,
   "metadata": {},
   "outputs": [
    {
     "name": "stdout",
     "output_type": "stream",
     "text": [
      "The mean is: 29.76\n",
      "The median is: 29\n",
      "The mode is: 26\n",
      "The Range is: 14\n",
      "The Variance is: 17.5424\n",
      "The Standard Deviation is: 4.188364836066696\n",
      "The minimum value is: 24\n",
      "The maximum value is: 38\n",
      "The count is: 25\n",
      "The sum is: 744\n"
     ]
    }
   ],
   "source": [
    "class Statistics:\n",
    "\n",
    "    def calculate_mean(self, my_list):\n",
    "        sum = 0\n",
    "        for j in my_list:\n",
    "            sum += j\n",
    "            mean = sum / len(my_list)\n",
    "        return f'The mean is: {mean}'\n",
    "\n",
    "    def calculate_median(self, my_list):\n",
    "        sort_list = sorted(my_list)\n",
    "        median = len(sort_list) // 2\n",
    "        return f'The median is: {sort_list[median]}'\n",
    "\n",
    "    def calculate_mode(self, my_list):\n",
    "        _count = []\n",
    "        for i in my_list:\n",
    "            _count.append(my_list.count(i))\n",
    "        for mode in my_list:\n",
    "            if my_list.count(mode) == max(_count):   \n",
    "                return f'The mode is: {mode}' \n",
    "        \n",
    "    def calculate_range(self, my_list):\n",
    "        range = max(my_list) - min(my_list)\n",
    "        return f'The Range is: {range}'\n",
    "\n",
    "    def calculate_variance(self, my_list):\n",
    "        my_mean = sum(my_list) / len(my_list)\n",
    "        variance = sum((x - my_mean)**2 for x in my_list) / len(my_list)\n",
    "        return f'The Variance is: {variance}'\n",
    "\n",
    "    def calculate_std(self, my_list):\n",
    "        my_mean = sum(my_list) / len(my_list)\n",
    "        my_variance = sum((x - my_mean)**2 for x in my_list) / len(my_list)\n",
    "        standard_deviation = (my_variance) ** (1/2)\n",
    "        return f'The Standard Deviation is: {standard_deviation}'\n",
    "    \n",
    "    def minimum(self, my_list):\n",
    "        return f'The minimum value is: {min(my_list)}'\n",
    "    \n",
    "    def maximum(self, my_list):\n",
    "        return f'The maximum value is: {max(my_list)}'\n",
    "    \n",
    "    def count(self, my_list):\n",
    "        return f'The count is: {len(my_list)}'\n",
    "    \n",
    "    def sum(self, my_list):\n",
    "        return f'The sum is: {sum(my_list)}'\n",
    "    \n",
    "lst = [31, 26, 34, 37, 27, 26, 32, 32, 26, 27, 27, 24, 32, 33, 27, 25, 26, 38, 37, 31, 34, 24, 33, 29, 26]\n",
    "data = Statistics()\n",
    "print(data.calculate_mean(lst))\n",
    "print(data.calculate_median(lst))\n",
    "print(data.calculate_mode(lst))\n",
    "print(data.calculate_range(lst))\n",
    "print(data.calculate_variance(lst))\n",
    "print(data.calculate_std(lst))\n",
    "print(data.minimum(lst))\n",
    "print(data.maximum(lst))\n",
    "print(data.count(lst))\n",
    "print(data.sum(lst))"
   ]
  },
  {
   "attachments": {},
   "cell_type": "markdown",
   "metadata": {},
   "source": [
    "Exercise 2"
   ]
  },
  {
   "cell_type": "code",
   "execution_count": 30,
   "metadata": {},
   "outputs": [
    {
     "name": "stdout",
     "output_type": "stream",
     "text": [
      "Account info is: Muhammadu Buhari\n",
      "Account balance is: 24000\n"
     ]
    }
   ],
   "source": [
    "class PersonAccount:\n",
    "    def __init__(self, firstname, lastname, incomes, expenses):\n",
    "        self.firstname = firstname\n",
    "        self.lastname = lastname\n",
    "        self.incomes = incomes\n",
    "        self.expenses = expenses\n",
    "    \n",
    "    def total_income(self):\n",
    "        return(f'Total income is: {self.incomes}')\n",
    "        \n",
    "    def  total_expense(self):\n",
    "        return(f'Total expense is: {self.expenses}')\n",
    "\n",
    "    def account_info(self):\n",
    "        return(f'Account info is: {self.firstname} {self.lastname}')\n",
    "\n",
    "    def add_income(self, income):\n",
    "        self.income = income\n",
    "        self.incomes += self.income\n",
    "\n",
    "    def add_expense(self, expense):\n",
    "        self.expense = expense\n",
    "        self.expenses += expense\n",
    "\n",
    "    def account_balance(self):\n",
    "        acc_bal = self.incomes - self.expenses\n",
    "        return(f'Account balance is: {acc_bal}')\n",
    "\n",
    "obj = PersonAccount('Muhammadu', 'Buhari', 100000, 76000)\n",
    "print(obj.account_info())\n",
    "print(obj.account_balance())"
   ]
  }
 ],
 "metadata": {
  "kernelspec": {
   "display_name": "Python 3",
   "language": "python",
   "name": "python3"
  },
  "language_info": {
   "codemirror_mode": {
    "name": "ipython",
    "version": 3
   },
   "file_extension": ".py",
   "mimetype": "text/x-python",
   "name": "python",
   "nbconvert_exporter": "python",
   "pygments_lexer": "ipython3",
   "version": "3.11.0rc1 (main, Aug 12 2022, 10:02:14) [GCC 11.2.0]"
  },
  "orig_nbformat": 4,
  "vscode": {
   "interpreter": {
    "hash": "ead1b95f633dc9c51826328e1846203f51a198c6fb5f2884a80417ba131d4e82"
   }
  }
 },
 "nbformat": 4,
 "nbformat_minor": 2
}
