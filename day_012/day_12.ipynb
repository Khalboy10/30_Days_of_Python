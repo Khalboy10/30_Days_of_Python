{
 "cells": [
  {
   "attachments": {},
   "cell_type": "markdown",
   "metadata": {},
   "source": [
    "# Exercises: Level 1\n",
    "Exercise 1"
   ]
  },
  {
   "cell_type": "code",
   "execution_count": 5,
   "metadata": {},
   "outputs": [
    {
     "name": "stdout",
     "output_type": "stream",
     "text": [
      "vymP7l\n"
     ]
    }
   ],
   "source": [
    "from random import choice, randint\n",
    "from string import ascii_letters, digits\n",
    "\n",
    "def random_user_id():\n",
    "    user_id = ''\n",
    "    for i in range(6):\n",
    "        user_id += choice(ascii_letters + digits)\n",
    "    return user_id\n",
    "print(random_user_id())"
   ]
  },
  {
   "attachments": {},
   "cell_type": "markdown",
   "metadata": {},
   "source": [
    "Exercise 2"
   ]
  },
  {
   "cell_type": "code",
   "execution_count": 15,
   "metadata": {},
   "outputs": [
    {
     "name": "stdout",
     "output_type": "stream",
     "text": [
      "oB4smrFIgr\n",
      "MKFEozDEN7\n",
      "ZghlRTjaJM\n",
      "IevKGOEjpe\n"
     ]
    }
   ],
   "source": [
    "def user_id_gen_by_user():\n",
    "    user_id = ''\n",
    "    a = int(input('Enter length of user Id: '))\n",
    "    b = int(input('Enter number of user Id: '))\n",
    "    for i in range(b):\n",
    "        for j in range(a):\n",
    "            user_id += choice(ascii_letters + digits)\n",
    "        print(user_id)\n",
    "        user_id = ''\n",
    "user_id_gen_by_user()"
   ]
  },
  {
   "attachments": {},
   "cell_type": "markdown",
   "metadata": {},
   "source": [
    "Exercise 3"
   ]
  },
  {
   "cell_type": "code",
   "execution_count": 49,
   "metadata": {},
   "outputs": [
    {
     "name": "stdout",
     "output_type": "stream",
     "text": [
      "rgb(207, 174, 204)\n"
     ]
    }
   ],
   "source": [
    "def rgb_color_gen():\n",
    "    a = randint(0,255)\n",
    "    b = randint(0,255)\n",
    "    c = randint(0,255)\n",
    "    return f'rgb{a,b,c}'\n",
    "print(rgb_color_gen())"
   ]
  },
  {
   "attachments": {},
   "cell_type": "markdown",
   "metadata": {},
   "source": [
    "# Exercises: Level 2\n",
    "Exercise 1"
   ]
  },
  {
   "cell_type": "code",
   "execution_count": 37,
   "metadata": {},
   "outputs": [
    {
     "name": "stdout",
     "output_type": "stream",
     "text": [
      "['#3FF49F', '#CC1099', '#FD3E4F']\n"
     ]
    }
   ],
   "source": [
    "from string import digits\n",
    "from random import choice\n",
    "def list_of_hexa_colors(num):\n",
    "    hexa = digits + 'ABCDEF'\n",
    "    my_hexa = []\n",
    "    a_hexa = ''\n",
    "    for i in range(num):\n",
    "        for i in range(6):\n",
    "            a_hexa += choice(hexa)\n",
    "        my_hexa.append('#' + a_hexa)    \n",
    "        a_hexa = ''\n",
    "    return(my_hexa)\n",
    "print(list_of_hexa_colors(3))"
   ]
  },
  {
   "attachments": {},
   "cell_type": "markdown",
   "metadata": {},
   "source": [
    "Exercise 2"
   ]
  },
  {
   "cell_type": "code",
   "execution_count": 54,
   "metadata": {},
   "outputs": [
    {
     "name": "stdout",
     "output_type": "stream",
     "text": [
      "['rgb(95, 226, 236)', 'rgb(248, 105, 173)', 'rgb(118, 189, 109)']\n"
     ]
    }
   ],
   "source": [
    "from random import randint\n",
    "def list_of_rgb_colors(num):\n",
    "    rgb = list()\n",
    "    for i in range(num):\n",
    "        a = randint(0,255)\n",
    "        b = randint(0,255)\n",
    "        c = randint(0,255)\n",
    "        rgb.append(f'rgb{a,b,c}')\n",
    "    return rgb\n",
    "print(list_of_rgb_colors(3))"
   ]
  },
  {
   "attachments": {},
   "cell_type": "markdown",
   "metadata": {},
   "source": [
    "Exercise 3"
   ]
  },
  {
   "cell_type": "code",
   "execution_count": 56,
   "metadata": {},
   "outputs": [
    {
     "name": "stdout",
     "output_type": "stream",
     "text": [
      "['rgb(8, 12, 78)', 'rgb(24, 223, 178)']\n",
      "['#C01BA2', '#DFDAA4', '#86304A']\n"
     ]
    }
   ],
   "source": [
    "def generate_colors(a,b):\n",
    "    return a(b)\n",
    "print(generate_colors(list_of_rgb_colors, 2))\n",
    "print(generate_colors(list_of_hexa_colors, 3))"
   ]
  },
  {
   "attachments": {},
   "cell_type": "markdown",
   "metadata": {},
   "source": [
    "# Exercises: Level 3\n",
    "Exercise 1"
   ]
  },
  {
   "cell_type": "code",
   "execution_count": 74,
   "metadata": {},
   "outputs": [
    {
     "name": "stdout",
     "output_type": "stream",
     "text": [
      "[7, 5, 3, 6, 2]\n"
     ]
    }
   ],
   "source": [
    "from random import shuffle\n",
    "def shuffle_list(my_list):\n",
    "    shuffle(my_list)\n",
    "    return my_list\n",
    "print(shuffle_list([2,3,5,6,7]))"
   ]
  },
  {
   "attachments": {},
   "cell_type": "markdown",
   "metadata": {},
   "source": [
    "Exercise 2"
   ]
  },
  {
   "cell_type": "code",
   "execution_count": 64,
   "metadata": {},
   "outputs": [
    {
     "name": "stdout",
     "output_type": "stream",
     "text": [
      "{'3', '6', '7', '8', '4', '5', '9', '1'}\n"
     ]
    }
   ],
   "source": [
    "from string import digits\n",
    "from random import choice\n",
    "def unique():\n",
    "    unique_array = set()\n",
    "    while len(unique_array) <= 7:\n",
    "        unique_array.add(choice(digits))\n",
    "    return unique_array\n",
    "print(unique())"
   ]
  }
 ],
 "metadata": {
  "kernelspec": {
   "display_name": "base",
   "language": "python",
   "name": "python3"
  },
  "language_info": {
   "codemirror_mode": {
    "name": "ipython",
    "version": 3
   },
   "file_extension": ".py",
   "mimetype": "text/x-python",
   "name": "python",
   "nbconvert_exporter": "python",
   "pygments_lexer": "ipython3",
   "version": "3.9.13 (main, Aug 25 2022, 23:26:10) \n[GCC 11.2.0]"
  },
  "orig_nbformat": 4,
  "vscode": {
   "interpreter": {
    "hash": "cb1d2d89cb7c6a69a81de6a0cd8c1e2ebe2646f633b514a8a7f5dd3287604553"
   }
  }
 },
 "nbformat": 4,
 "nbformat_minor": 2
}
