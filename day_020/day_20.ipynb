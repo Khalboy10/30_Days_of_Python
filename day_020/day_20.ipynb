{
 "cells": [
  {
   "cell_type": "markdown",
   "metadata": {},
   "source": [
    "Exercise: 1"
   ]
  },
  {
   "cell_type": "code",
   "execution_count": 4,
   "metadata": {},
   "outputs": [
    {
     "name": "stdout",
     "output_type": "stream",
     "text": [
      "The most frequent words in http://www.gutenberg.org/files/1112/1112.txt is: [(15434, ''), (1253, '\\r'), (739, 'the'), (550, 'I'), (540, 'and'), (518, 'to'), (479, 'of'), (438, 'a'), (333, 'in'), (317, 'is')]\n"
     ]
    }
   ],
   "source": [
    "import requests\n",
    "import re\n",
    "\n",
    "romeo_and_juliet = 'http://www.gutenberg.org/files/1112/1112.txt'\n",
    "response = requests.get(romeo_and_juliet)\n",
    "words = response.text\n",
    "words = re.sub(r'[.,;\"-]', '', words)\n",
    "words = re.sub(r'[:\\n]', ' ', words) \n",
    "words = re.split(' ', words)\n",
    "count = []\n",
    "for i in words:\n",
    "    if (words.count(i), i) not in count:\n",
    "        count.append((words.count(i), i))\n",
    "s_count = sorted(count, reverse=True)\n",
    "print(f'The most frequent words in {romeo_and_juliet} is: {s_count[ : 10]}')"
   ]
  },
  {
   "attachments": {},
   "cell_type": "markdown",
   "metadata": {},
   "source": [
    "Exercise 2"
   ]
  },
  {
   "cell_type": "code",
   "execution_count": 19,
   "metadata": {},
   "outputs": [
    {
     "name": "stdout",
     "output_type": "stream",
     "text": [
      "['3 - 5', '3 - 5', '3 - 7', '2 - 5', '4 - 7', '4 - 7', '4 - 7', '3 - 7', '2 - 5', '2 - 4', '3 - 7', '3 - 7', '3 - 5', '4 - 8', '5 - 9', '3 - 5', '3 - 6', '5 - 7', '3 - 5', '3 - 7', '3 - 7', '4 - 7', '2 - 5', '2 - 4', '4 - 6', '4 - 7', '2 - 5', '5 - 6', '4 - 6', '3 - 6', '3 - 6', '3 - 6', '3 - 5', '3 - 6', '2 - 5', '2 - 5', '4 - 6', '3 - 5', '4 - 7', '3 - 5', '5 - 8', '3 - 6', '3 - 6', '2 - 4', '3 - 5', '4 - 7', '3 - 7', '2 - 5', '4 - 6', '4 - 8', '4 - 9', '5 - 9', '2 - 5', '4 - 11', '2 - 5', '3 - 7', '4 - 7', '4 - 7', '2 - 4', '3 - 5', '3 - 5', '3 - 5', '3 - 5', '3 - 7', '2 - 5', '3 - 9', '5 - 8']\n"
     ]
    }
   ],
   "source": [
    "import requests\n",
    "\n",
    "cats_api = 'https://api.thecatapi.com/v1/breeds'\n",
    "response = requests.get(cats_api)\n",
    "text = response.json()\n",
    "lst = list()\n",
    "lst_1 = []\n",
    "for i in text:\n",
    "    lst.append(i['weight']['metric'])\n",
    "print(lst)\n"
   ]
  }
 ],
 "metadata": {
  "kernelspec": {
   "display_name": "Python 3",
   "language": "python",
   "name": "python3"
  },
  "language_info": {
   "codemirror_mode": {
    "name": "ipython",
    "version": 3
   },
   "file_extension": ".py",
   "mimetype": "text/x-python",
   "name": "python",
   "nbconvert_exporter": "python",
   "pygments_lexer": "ipython3",
   "version": "3.11.0rc1"
  },
  "orig_nbformat": 4,
  "vscode": {
   "interpreter": {
    "hash": "ead1b95f633dc9c51826328e1846203f51a198c6fb5f2884a80417ba131d4e82"
   }
  }
 },
 "nbformat": 4,
 "nbformat_minor": 2
}
